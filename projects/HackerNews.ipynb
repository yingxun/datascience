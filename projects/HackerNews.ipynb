{
 "cells": [
  {
   "cell_type": "markdown",
   "metadata": {},
   "source": [
    "# Hacker News Project\n",
    "In this project, we will be using the data set from [Hacker News](https://www.kaggle.com/hacker-news/hacker-news-posts)\n",
    "We will be exploring the dataset ...\n",
    "\n"
   ]
  },
  {
   "cell_type": "code",
   "execution_count": 4,
   "metadata": {},
   "outputs": [
    {
     "name": "stdout",
     "output_type": "stream",
     "text": [
      "293120\n",
      "293120\n"
     ]
    }
   ],
   "source": [
    "from csv import reader\n",
    "opened_file = open(\"C:/Users/User/Datasets/HN_posts.csv\",encoding='utf8')\n",
    "read_file= reader(opened_file)\n",
    "hn = list(read_file)\n",
    "\n",
    "print(len(hn))\n",
    "for row in hn:\n",
    "    if row[4] ==0:\n",
    "        del(row)\n",
    "print(len(hn))"
   ]
  },
  {
   "cell_type": "code",
   "execution_count": 16,
   "metadata": {},
   "outputs": [
    {
     "name": "stdout",
     "output_type": "stream",
     "text": [
      "['a', 'b', 'c']\n",
      "2380783988288\n",
      "2380783988288\n",
      "['a', 'b', 'c']\n"
     ]
    }
   ],
   "source": [
    "var= ['a','b','c']\n",
    "print(var)\n",
    "car=var\n",
    "print(id(var))\n",
    "print(id(car))\n",
    "def func(var):\n",
    "    var=[\"c\",\"d\",\"e\"]\n",
    "    return var\n",
    "car=func(var)\n",
    "print(var)\n"
   ]
  },
  {
   "cell_type": "code",
   "execution_count": 8,
   "metadata": {},
   "outputs": [
    {
     "name": "stdout",
     "output_type": "stream",
     "text": [
      "[0, 1]\n"
     ]
    }
   ],
   "source": [
    "listA = [0]\n",
    "listB = listA\n",
    "listB.append(1)\n",
    "print(listA)"
   ]
  },
  {
   "cell_type": "code",
   "execution_count": 14,
   "metadata": {},
   "outputs": [
    {
     "name": "stdout",
     "output_type": "stream",
     "text": [
      "140717579314976\n",
      "140717579314976\n",
      "140717579314976\n",
      "140717579314976\n"
     ]
    }
   ],
   "source": [
    "a,b,c=1,1,1\n",
    "print(id(a))\n",
    "print(id(b))\n",
    "print(id(c))\n",
    "a+=1\n",
    "a=b\n",
    "b+=1\n",
    "print(id(a))"
   ]
  },
  {
   "cell_type": "code",
   "execution_count": null,
   "metadata": {},
   "outputs": [],
   "source": []
  }
 ],
 "metadata": {
  "kernelspec": {
   "display_name": "Python 3",
   "language": "python",
   "name": "python3"
  },
  "language_info": {
   "codemirror_mode": {
    "name": "ipython",
    "version": 3
   },
   "file_extension": ".py",
   "mimetype": "text/x-python",
   "name": "python",
   "nbconvert_exporter": "python",
   "pygments_lexer": "ipython3",
   "version": "3.8.5"
  }
 },
 "nbformat": 4,
 "nbformat_minor": 4
}
