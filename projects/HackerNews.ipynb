{
 "cells": [
  {
   "cell_type": "markdown",
   "metadata": {},
   "source": [
    "# Hacker News Project\n",
    "In this project, we will be using the data set from [Hacker News](https://www.kaggle.com/hacker-news/hacker-news-posts)\n",
    "We will be exploring the dataset to arrive at several insights.\n"
   ]
  },
  {
   "cell_type": "markdown",
   "metadata": {},
   "source": [
    "# Preparing the data\n",
    "Firstly, let us prepare the data by extracting the data set and removing the header."
   ]
  },
  {
   "cell_type": "code",
   "execution_count": 1,
   "metadata": {
    "scrolled": true
   },
   "outputs": [
    {
     "name": "stdout",
     "output_type": "stream",
     "text": [
      "['id', 'title', 'url', 'num_points', 'num_comments', 'author', 'created_at'] \n",
      "\n",
      "['12224879', 'Interactive Dynamic Video', 'http://www.interactivedynamicvideo.com/', '386', '52', 'ne0phyte', '8/4/2016 11:52'] \n",
      "\n",
      "['10975351', 'How to Use Open Source and Shut the Fuck Up at the Same Time', 'http://hueniverse.com/2016/01/26/how-to-use-open-source-and-shut-the-fuck-up-at-the-same-time/', '39', '10', 'josep2', '1/26/2016 19:30'] \n",
      "\n",
      "['11964716', \"Florida DJs May Face Felony for April Fools' Water Joke\", 'http://www.thewire.com/entertainment/2013/04/florida-djs-april-fools-water-joke/63798/', '2', '1', 'vezycash', '6/23/2016 22:20'] \n",
      "\n",
      "['11919867', 'Technology ventures: From Idea to Enterprise', 'https://www.amazon.com/Technology-Ventures-Enterprise-Thomas-Byers/dp/0073523429', '3', '1', 'hswarna', '6/17/2016 0:01'] \n",
      "\n"
     ]
    }
   ],
   "source": [
    "from csv import reader\n",
    "opened_file = open(\"hacker_news.csv\")\n",
    "read_file= reader(opened_file)\n",
    "hn = list(read_file)\n",
    "\n",
    "#print the first five rows\n",
    "for row in hn[:5]:\n",
    "    print(row,\"\\n\")"
   ]
  },
  {
   "cell_type": "code",
   "execution_count": 2,
   "metadata": {
    "scrolled": true
   },
   "outputs": [
    {
     "name": "stdout",
     "output_type": "stream",
     "text": [
      "[['id', 'title', 'url', 'num_points', 'num_comments', 'author', 'created_at']]\n",
      "['12224879', 'Interactive Dynamic Video', 'http://www.interactivedynamicvideo.com/', '386', '52', 'ne0phyte', '8/4/2016 11:52'] \n",
      "\n",
      "['10975351', 'How to Use Open Source and Shut the Fuck Up at the Same Time', 'http://hueniverse.com/2016/01/26/how-to-use-open-source-and-shut-the-fuck-up-at-the-same-time/', '39', '10', 'josep2', '1/26/2016 19:30'] \n",
      "\n",
      "['11964716', \"Florida DJs May Face Felony for April Fools' Water Joke\", 'http://www.thewire.com/entertainment/2013/04/florida-djs-april-fools-water-joke/63798/', '2', '1', 'vezycash', '6/23/2016 22:20'] \n",
      "\n",
      "['11919867', 'Technology ventures: From Idea to Enterprise', 'https://www.amazon.com/Technology-Ventures-Enterprise-Thomas-Byers/dp/0073523429', '3', '1', 'hswarna', '6/17/2016 0:01'] \n",
      "\n",
      "['10301696', 'Note by Note: The Making of Steinway L1037 (2007)', 'http://www.nytimes.com/2007/11/07/movies/07stein.html?_r=0', '8', '2', 'walterbell', '9/30/2015 4:12'] \n",
      "\n"
     ]
    }
   ],
   "source": [
    "headers = hn[:1]\n",
    "del(hn[0])\n",
    "print(headers)\n",
    "for row in hn[:5]:\n",
    "    print(row,\"\\n\")"
   ]
  },
  {
   "cell_type": "markdown",
   "metadata": {},
   "source": [
    "# Filtering the dataset\n",
    "Now we let us look for the posts that we are interested in: `Ask HN` and `Show HN` posts.\n",
    "We will use the lower() method followed by startswith() method to filter out posts that start with `ask hn` and `show hn` respectively."
   ]
  },
  {
   "cell_type": "code",
   "execution_count": 3,
   "metadata": {
    "scrolled": true
   },
   "outputs": [
    {
     "name": "stdout",
     "output_type": "stream",
     "text": [
      "Number of ask posts: 1744\n",
      "Number of show posts: 1162\n",
      "Number of other posts: 17194\n"
     ]
    }
   ],
   "source": [
    "ask_posts=[]\n",
    "show_posts=[]\n",
    "other_posts=[]\n",
    "\n",
    "for row in hn:\n",
    "    title = row[1]\n",
    "    if title.lower().startswith('ask hn'):\n",
    "        ask_posts.append(row)\n",
    "    elif title.lower().startswith('show hn'):\n",
    "        show_posts.append(row)\n",
    "    else:\n",
    "        other_posts.append(row)\n",
    "        \n",
    "print(\"Number of ask posts:\",len(ask_posts))\n",
    "print(\"Number of show posts:\",len(show_posts))\n",
    "print(\"Number of other posts:\",len(other_posts))\n"
   ]
  },
  {
   "cell_type": "markdown",
   "metadata": {},
   "source": [
    "# Find the average number of comments on ask/show posts\n",
    "\n",
    "Let us find out if there are more average number of comments on `ask posts` or `show posts`"
   ]
  },
  {
   "cell_type": "code",
   "execution_count": 4,
   "metadata": {},
   "outputs": [
    {
     "name": "stdout",
     "output_type": "stream",
     "text": [
      "The average number of comments on ask posts is: 14.04\n",
      "The average number of comments on show posts is: 10.32\n"
     ]
    }
   ],
   "source": [
    "total_ask_comments=0\n",
    "for row in ask_posts:\n",
    "    num_comments=int(row[4])\n",
    "    if num_comments!=0:\n",
    "        total_ask_comments+=num_comments\n",
    "avg_ask_comments=total_ask_comments/len(ask_posts)\n",
    "print(\"The average number of comments on ask posts is: {:.2f}\".format(avg_ask_comments))\n",
    "\n",
    "total_show_comments=0\n",
    "for row in show_posts:\n",
    "    num_comments=int(row[4])\n",
    "    if num_comments!=0:\n",
    "        total_show_comments+=num_comments\n",
    "\n",
    "avg_show_comments = total_show_comments/len(show_posts)\n",
    "print(\"The average number of comments on show posts is: {:.2f}\".format(avg_show_comments))\n"
   ]
  },
  {
   "cell_type": "markdown",
   "metadata": {},
   "source": [
    "It seems like `ask posts` receive more comments on average. This might be due to a genuinely helpful community on Hacker News that try to help people with questions more than people that are showing something to the community. \n",
    "\n",
    "# Is there a prime time of posting to receive the most number of comments?\n",
    "Since ask posts are more likely to receive comments, we will focus our remaining analysis on `ask posts`. Let us now dive deeper into discovering if there is a time of the day that attract more comments.\n",
    "\n",
    "We can look at `created_at` column and convert the strings to datetime objects"
   ]
  },
  {
   "cell_type": "code",
   "execution_count": 68,
   "metadata": {},
   "outputs": [
    {
     "name": "stdout",
     "output_type": "stream",
     "text": [
      "-------------Posts by hour---------------\n",
      "Hour: 00   Posts: 55\n",
      "Hour: 01   Posts: 60\n",
      "Hour: 02   Posts: 58\n",
      "Hour: 03   Posts: 54\n",
      "Hour: 04   Posts: 47\n",
      "Hour: 05   Posts: 46\n",
      "Hour: 06   Posts: 44\n",
      "Hour: 07   Posts: 34\n",
      "Hour: 08   Posts: 48\n",
      "Hour: 09   Posts: 45\n",
      "Hour: 10   Posts: 59\n",
      "Hour: 11   Posts: 58\n",
      "Hour: 12   Posts: 73\n",
      "Hour: 13   Posts: 85\n",
      "Hour: 14   Posts: 107\n",
      "Hour: 15   Posts: 116\n",
      "Hour: 16   Posts: 108\n",
      "Hour: 17   Posts: 100\n",
      "Hour: 18   Posts: 109\n",
      "Hour: 19   Posts: 110\n",
      "Hour: 20   Posts: 80\n",
      "Hour: 21   Posts: 109\n",
      "Hour: 22   Posts: 71\n",
      "Hour: 23   Posts: 68\n",
      "-------------Comments by hour---------------\n",
      "Hour: 00   Comments: 447\n",
      "Hour: 01   Comments: 683\n",
      "Hour: 02   Comments: 1381\n",
      "Hour: 03   Comments: 421\n",
      "Hour: 04   Comments: 337\n",
      "Hour: 05   Comments: 464\n",
      "Hour: 06   Comments: 397\n",
      "Hour: 07   Comments: 267\n",
      "Hour: 08   Comments: 492\n",
      "Hour: 09   Comments: 251\n",
      "Hour: 10   Comments: 793\n",
      "Hour: 11   Comments: 641\n",
      "Hour: 12   Comments: 687\n",
      "Hour: 13   Comments: 1253\n",
      "Hour: 14   Comments: 1416\n",
      "Hour: 15   Comments: 4477\n",
      "Hour: 16   Comments: 1814\n",
      "Hour: 17   Comments: 1146\n",
      "Hour: 18   Comments: 1439\n",
      "Hour: 19   Comments: 1188\n",
      "Hour: 20   Comments: 1722\n",
      "Hour: 21   Comments: 1745\n",
      "Hour: 22   Comments: 479\n",
      "Hour: 23   Comments: 543\n"
     ]
    }
   ],
   "source": [
    "import datetime as dt\n",
    "\n",
    "result_list=[]\n",
    "\n",
    "for post in ask_posts:\n",
    "    result_list.append([post[6],int(post[4])])\n",
    "\n",
    "count_by_hour={}\n",
    "comments_by_hour={}\n",
    "for row in result_list:\n",
    "    comment=row[1]\n",
    "    #convert string to datetime obj\n",
    "    time = dt.datetime.strptime(row[0],\"%m/%d/%Y %H:%M\")\n",
    "    #extract hour from datetime obj formatted into string type\n",
    "    hour= time.strftime(\"%H\")\n",
    "    #insert into count_by_hour to generate frequency table\n",
    "    if hour in count_by_hour:\n",
    "        count_by_hour[hour]+=1\n",
    "        comments_by_hour[hour]+=comment\n",
    "    else:\n",
    "        count_by_hour[hour]=1\n",
    "        comments_by_hour[hour]=comment\n",
    "       \n",
    "print(\"-------------Posts by hour---------------\")\n",
    "#sort the count_by_hour list\n",
    "countlist=[]\n",
    "for key,value in count_by_hour.items():\n",
    "    key_val_as_tuple=(key,value)\n",
    "    countlist.append(key_val_as_tuple)\n",
    "countlist=sorted(countlist)\n",
    "\n",
    "for item in countlist:\n",
    "    print(\"Hour:\",item[0],\"  \"+\"Posts:\",item[1])\n",
    "    \n",
    "#sort the comments_by_hour list\n",
    "print(\"-------------Comments by hour---------------\")\n",
    "commentlist=[]\n",
    "for key,value in comments_by_hour.items():\n",
    "    key_val_as_tuple=(key,value)\n",
    "    commentlist.append(key_val_as_tuple)\n",
    "commentlist=sorted(commentlist)\n",
    "\n",
    "for item in commentlist:\n",
    "    print(\"Hour:\",item[0],\"  \"+\"Comments:\",item[1])"
   ]
  },
  {
   "cell_type": "markdown",
   "metadata": {},
   "source": [
    "Now let us calculate the average number of comments per post for each hour of the day."
   ]
  },
  {
   "cell_type": "code",
   "execution_count": 54,
   "metadata": {},
   "outputs": [
    {
     "name": "stdout",
     "output_type": "stream",
     "text": [
      "---------------Average Comments Per Post By Hour---------------\n",
      "Hour: 00    Avg Comments Per Post: 8.127272727272727\n",
      "Hour: 01    Avg Comments Per Post: 11.383333333333333\n",
      "Hour: 02    Avg Comments Per Post: 23.810344827586206\n",
      "Hour: 03    Avg Comments Per Post: 7.796296296296297\n",
      "Hour: 04    Avg Comments Per Post: 7.170212765957447\n",
      "Hour: 05    Avg Comments Per Post: 10.08695652173913\n",
      "Hour: 06    Avg Comments Per Post: 9.022727272727273\n",
      "Hour: 07    Avg Comments Per Post: 7.852941176470588\n",
      "Hour: 08    Avg Comments Per Post: 10.25\n",
      "Hour: 09    Avg Comments Per Post: 5.5777777777777775\n",
      "Hour: 10    Avg Comments Per Post: 13.440677966101696\n",
      "Hour: 11    Avg Comments Per Post: 11.051724137931034\n",
      "Hour: 12    Avg Comments Per Post: 9.41095890410959\n",
      "Hour: 13    Avg Comments Per Post: 14.741176470588234\n",
      "Hour: 14    Avg Comments Per Post: 13.233644859813085\n",
      "Hour: 15    Avg Comments Per Post: 38.5948275862069\n",
      "Hour: 16    Avg Comments Per Post: 16.796296296296298\n",
      "Hour: 17    Avg Comments Per Post: 11.46\n",
      "Hour: 18    Avg Comments Per Post: 13.20183486238532\n",
      "Hour: 19    Avg Comments Per Post: 10.8\n",
      "Hour: 20    Avg Comments Per Post: 21.525\n",
      "Hour: 21    Avg Comments Per Post: 16.009174311926607\n",
      "Hour: 22    Avg Comments Per Post: 6.746478873239437\n",
      "Hour: 23    Avg Comments Per Post: 7.985294117647059\n"
     ]
    }
   ],
   "source": [
    "avg_by_hr=[]\n",
    "\n",
    "for item in countlist:\n",
    "    avg_list=[]\n",
    "    hour=item[0]\n",
    "    posts=item[1]\n",
    "    for x in range(24):\n",
    "        if hour==commentlist[x][0]:\n",
    "            avg= commentlist[x][1]/posts\n",
    "            avg_list.append(hour)\n",
    "            avg_list.append(avg)\n",
    "            break\n",
    "    avg_by_hr.append(avg_list)\n",
    "    \n",
    "print(\"---------------Average Comments Per Post By Hour---------------\")\n",
    "for item in avg_by_hr:\n",
    "    print(\"Hour:\",item[0], \"   Avg Comments Per Post:\", item[1])"
   ]
  },
  {
   "cell_type": "markdown",
   "metadata": {},
   "source": [
    "Let us sort the results so we can easily identify the top 5 hours with the highest average comments per post."
   ]
  },
  {
   "cell_type": "code",
   "execution_count": 69,
   "metadata": {},
   "outputs": [
    {
     "name": "stdout",
     "output_type": "stream",
     "text": [
      "Top 5 Hours for Ask Posts Comments\n",
      "15:00: 38.59 average comments per post\n",
      "02:00: 23.81 average comments per post\n",
      "20:00: 21.52 average comments per post\n",
      "16:00: 16.80 average comments per post\n",
      "21:00: 16.01 average comments per post\n"
     ]
    }
   ],
   "source": [
    "swap_avg_by_hr=[]\n",
    "for item in avg_by_hr:\n",
    "    swapped_list=[item[1],item[0]]\n",
    "    swap_avg_by_hr.append(swapped_list)\n",
    "\n",
    "#sort the swap_avg_by_hr list in descending order\n",
    "sorted_swap = sorted(swap_avg_by_hr, reverse=True)\n",
    "\n",
    "print(\"Top 5 Hours for Ask Posts Comments\")\n",
    "for x in range(5):\n",
    "    #convert str to datetime obj\n",
    "    hour=dt.datetime.strptime(sorted_swap[x][1], \"%H\")\n",
    "    avgcommentsperpost=sorted_swap[x][0]\n",
    "    #format datetime obj to str\n",
    "    hourstr = hour.strftime(\"%H:%M\")\n",
    "    template=\"{}: {:.2f} average comments per post\"\n",
    "    print(template.format(hourstr, avgcommentsperpost))\n",
    "    "
   ]
  },
  {
   "cell_type": "markdown",
   "metadata": {},
   "source": [
    "# Conclusion\n",
    "According to the results, it would be best to create a post at 15:00hrs Eastern Time in the US to have a higher chance of receiving comments. The results may not be sufficient to draw an accurate conclusion as the number of average comments per post can be affected by a few other factors:\n",
    "1. Relevancy of the question (a misclassified question may receive less comments)\n",
    "2. Topic of the question (new and hot topics would receive more comments)\n",
    "3. There is no proof that there is a direct relation between average comments per post with the timing (we could investigate this if the data had timestamps on the comments. Then, we can get a better metric by looking at the number of comments within the first hour of posting)"
   ]
  }
 ],
 "metadata": {
  "kernelspec": {
   "display_name": "Python 3",
   "language": "python",
   "name": "python3"
  },
  "language_info": {
   "codemirror_mode": {
    "name": "ipython",
    "version": 3
   },
   "file_extension": ".py",
   "mimetype": "text/x-python",
   "name": "python",
   "nbconvert_exporter": "python",
   "pygments_lexer": "ipython3",
   "version": "3.8.2"
  }
 },
 "nbformat": 4,
 "nbformat_minor": 2
}
