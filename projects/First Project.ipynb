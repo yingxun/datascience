{
 "cells": [
  {
   "cell_type": "markdown",
   "metadata": {},
   "source": [
    "## First DataScience Project: Mobile Apps Analysis\n",
    "The company builds apps that are free to download and install, and the main source of revenue consists of in-app ads.\n",
    "Our goal for this project is to analyze data to help our developers understand what `type of apps are likely to attract more users`.\n",
    "\n",
    "We will be using 2 datasets from kaggle: [GooglePlayStore](https://www.kaggle.com/lava18/google-play-store-apps) and [AppleStore](https://www.kaggle.com/ramamet4/app-store-apple-data-set-10k-apps)"
   ]
  },
  {
   "cell_type": "code",
   "execution_count": 1,
   "metadata": {},
   "outputs": [],
   "source": [
    "#function to print rows repeatedly\n",
    "\n",
    "def explore_data(dataset, start, end, rows_and_columns=False):\n",
    "    data_slice= dataset[start:end]\n",
    "    for row in data_slice:\n",
    "        print(row)\n",
    "        print('\\n')\n",
    "    \n",
    "    if rows_and_columns==True:\n",
    "        print(\"Number of rows: \", len(dataset))\n",
    "        print(\"Number of columns: \", len(dataset[0]))"
   ]
  },
  {
   "cell_type": "code",
   "execution_count": 2,
   "metadata": {},
   "outputs": [],
   "source": [
    "#function to open file\n",
    "\n",
    "def openfile(file=\"C:/Users/User/Datasets/AppleStore.csv\"):\n",
    "    opened_file= open(file,encoding='utf8')\n",
    "    from csv import reader\n",
    "    read_file=reader(opened_file)\n",
    "    apps_data=list(read_file)\n",
    "    return apps_data"
   ]
  },
  {
   "cell_type": "code",
   "execution_count": 3,
   "metadata": {
    "scrolled": true
   },
   "outputs": [
    {
     "name": "stdout",
     "output_type": "stream",
     "text": [
      "['App', 'Category', 'Rating', 'Reviews', 'Size', 'Installs', 'Type', 'Price', 'Content Rating', 'Genres', 'Last Updated', 'Current Ver', 'Android Ver']\n",
      "\n",
      "\n",
      "['Photo Editor & Candy Camera & Grid & ScrapBook', 'ART_AND_DESIGN', '4.1', '159', '19M', '10,000+', 'Free', '0', 'Everyone', 'Art & Design', 'January 7, 2018', '1.0.0', '4.0.3 and up']\n",
      "\n",
      "\n",
      "['Coloring book moana', 'ART_AND_DESIGN', '3.9', '967', '14M', '500,000+', 'Free', '0', 'Everyone', 'Art & Design;Pretend Play', 'January 15, 2018', '2.0.0', '4.0.3 and up']\n",
      "\n",
      "\n",
      "['U Launcher Lite – FREE Live Cool Themes, Hide Apps', 'ART_AND_DESIGN', '4.7', '87510', '8.7M', '5,000,000+', 'Free', '0', 'Everyone', 'Art & Design', 'August 1, 2018', '1.2.4', '4.0.3 and up']\n",
      "\n",
      "\n",
      "['Sketch - Draw & Paint', 'ART_AND_DESIGN', '4.5', '215644', '25M', '50,000,000+', 'Free', '0', 'Teen', 'Art & Design', 'June 8, 2018', 'Varies with device', '4.2 and up']\n",
      "\n",
      "\n",
      "Number of rows:  10842\n",
      "Number of columns:  13\n",
      "---------------------------------------------------------------------------------------------------------------------\n",
      "\n",
      "['id', 'track_name', 'size_bytes', 'currency', 'price', 'rating_count_tot', 'rating_count_ver', 'user_rating', 'user_rating_ver', 'ver', 'cont_rating', 'prime_genre', 'sup_devices.num', 'ipadSc_urls.num', 'lang.num', 'vpp_lic']\n",
      "\n",
      "\n",
      "['284882215', 'Facebook', '389879808', 'USD', '0.0', '2974676', '212', '3.5', '3.5', '95.0', '4+', 'Social Networking', '37', '1', '29', '1']\n",
      "\n",
      "\n",
      "['389801252', 'Instagram', '113954816', 'USD', '0.0', '2161558', '1289', '4.5', '4.0', '10.23', '12+', 'Photo & Video', '37', '0', '29', '1']\n",
      "\n",
      "\n",
      "['529479190', 'Clash of Clans', '116476928', 'USD', '0.0', '2130805', '579', '4.5', '4.5', '9.24.12', '9+', 'Games', '38', '5', '18', '1']\n",
      "\n",
      "\n",
      "['420009108', 'Temple Run', '65921024', 'USD', '0.0', '1724546', '3842', '4.5', '4.0', '1.6.2', '9+', 'Games', '40', '5', '1', '1']\n",
      "\n",
      "\n",
      "Number of rows:  7198\n",
      "Number of columns:  16\n"
     ]
    }
   ],
   "source": [
    "googleplaystore= openfile(\"C:/Users/User/Datasets/googleplaystore.csv\")\n",
    "applestore=openfile()\n",
    "explore_data(googleplaystore,0 , 5, True)\n",
    "print('---------------------------------------------------------------------------------------------------------------------\\n')\n",
    "explore_data(applestore,0,5,True)"
   ]
  },
  {
   "cell_type": "code",
   "execution_count": 4,
   "metadata": {},
   "outputs": [
    {
     "name": "stdout",
     "output_type": "stream",
     "text": [
      "Columns in GooglePlayStore dataset:\n",
      "['App', 'Category', 'Rating', 'Reviews', 'Size', 'Installs', 'Type', 'Price', 'Content Rating', 'Genres', 'Last Updated', 'Current Ver', 'Android Ver']\n",
      "\n",
      "\n",
      "Number of rows:  10842\n",
      "Number of columns:  13\n",
      "\n",
      "---------------------------------------------------------------------------------------------------------------------\n",
      "\n",
      "Columns in AppleStore dataset:\n",
      "['id', 'track_name', 'size_bytes', 'currency', 'price', 'rating_count_tot', 'rating_count_ver', 'user_rating', 'user_rating_ver', 'ver', 'cont_rating', 'prime_genre', 'sup_devices.num', 'ipadSc_urls.num', 'lang.num', 'vpp_lic']\n",
      "\n",
      "\n",
      "Number of rows:  7198\n",
      "Number of columns:  16\n"
     ]
    }
   ],
   "source": [
    "googleplaystore= openfile(\"C:/Users/User/Datasets/googleplaystore.csv\")\n",
    "applestore=openfile()\n",
    "print(\"Columns in GooglePlayStore dataset:\")\n",
    "explore_data(googleplaystore,0 , 1, True)\n",
    "print('\\n---------------------------------------------------------------------------------------------------------------------\\n')\n",
    "print(\"Columns in AppleStore dataset:\")\n",
    "explore_data(applestore,0,1,True)"
   ]
  },
  {
   "cell_type": "code",
   "execution_count": 5,
   "metadata": {
    "scrolled": true
   },
   "outputs": [
    {
     "name": "stdout",
     "output_type": "stream",
     "text": [
      "['Life Made WI-Fi Touchscreen Photo Frame', '1.9', '19', '3.0M', '1,000+', 'Free', '0', 'Everyone', '', 'February 11, 2018', '1.0.19', '4.0 and up']\n"
     ]
    }
   ],
   "source": [
    "#row with error is found here\n",
    "print(googleplaystore[10473])"
   ]
  },
  {
   "cell_type": "code",
   "execution_count": 6,
   "metadata": {},
   "outputs": [],
   "source": [
    "#remove the erratic data\n",
    "del googleplaystore[10473]"
   ]
  },
  {
   "cell_type": "code",
   "execution_count": 7,
   "metadata": {
    "scrolled": true
   },
   "outputs": [
    {
     "name": "stdout",
     "output_type": "stream",
     "text": [
      "['osmino Wi-Fi: free WiFi', 'TOOLS', '4.2', '134203', '4.1M', '10,000,000+', 'Free', '0', 'Everyone', 'Tools', 'August 7, 2018', '6.06.14', '4.4 and up']\n"
     ]
    }
   ],
   "source": [
    "#verify that the erratic data has been removed\n",
    "print(googleplaystore[10473])"
   ]
  },
  {
   "cell_type": "markdown",
   "metadata": {},
   "source": [
    "## Checking for duplicate entries\n",
    "Now we need to check the Google Play data set for duplicate entries."
   ]
  },
  {
   "cell_type": "code",
   "execution_count": 8,
   "metadata": {},
   "outputs": [
    {
     "name": "stdout",
     "output_type": "stream",
     "text": [
      "1181\n",
      "9659\n"
     ]
    }
   ],
   "source": [
    "duplicate_apps=[]\n",
    "unique_apps=[]\n",
    "for row in googleplaystore[1:]:\n",
    "    if row[0] in unique_apps:\n",
    "        duplicate_apps.append(row[0])\n",
    "    else:\n",
    "        unique_apps.append(row[0])\n",
    "\n",
    "print(len(duplicate_apps))\n",
    "print(len(unique_apps))"
   ]
  },
  {
   "cell_type": "markdown",
   "metadata": {},
   "source": [
    "As seen above, there are actually a number of duplicate rows in our dataset. Let us take a deeper look into these duplicate_apps."
   ]
  },
  {
   "cell_type": "code",
   "execution_count": 10,
   "metadata": {},
   "outputs": [
    {
     "data": {
      "text/plain": [
       "[('ROBLOX', 9),\n",
       " ('CBS Sports App - Scores, News, Stats & Watch Live', 8),\n",
       " ('Duolingo: Learn Languages Free', 7),\n",
       " ('8 Ball Pool', 7),\n",
       " ('Candy Crush Saga', 7),\n",
       " ('ESPN', 7),\n",
       " ('Nick', 6),\n",
       " ('Subway Surfers', 6),\n",
       " ('Bubble Shooter', 6),\n",
       " ('Sniper 3D Gun Shooter: Free Shooting Games - FPS', 6),\n",
       " ('Zombie Catchers', 6),\n",
       " ('Temple Run 2', 6),\n",
       " ('slither.io', 6),\n",
       " ('Helix Jump', 6),\n",
       " ('Bowmasters', 6),\n",
       " ('Bleacher Report: sports news, scores, & highlights', 6),\n",
       " ('Viber Messenger', 5),\n",
       " ('Netflix', 5),\n",
       " ('Calorie Counter - MyFitnessPal', 5),\n",
       " ('Plants vs. Zombies FREE', 5),\n",
       " ('Granny', 5),\n",
       " ('Zombie Tsunami', 5),\n",
       " ('Farm Heroes Saga', 5),\n",
       " ('Angry Birds Classic', 5),\n",
       " ('Flow Free', 5),\n",
       " ('MeetMe: Chat & Meet New People', 5),\n",
       " ('Wish - Shopping Made Fun', 5),\n",
       " ('eBay: Buy & Sell this Summer - Discover Deals Now!', 5),\n",
       " ('BeautyPlus - Easy Photo Editor & Selfie Camera', 5),\n",
       " ('Yahoo Fantasy Sports - #1 Rated Fantasy App', 5),\n",
       " ('theScore: Live Sports Scores, News, Stats & Videos', 5),\n",
       " ('MLB At Bat', 5),\n",
       " ('TripAdvisor Hotels Flights Restaurants Attractions', 5),\n",
       " ('Skyscanner', 5),\n",
       " ('imo free video calls and chat', 4),\n",
       " ('Hangouts', 4),\n",
       " ('WeChat', 4),\n",
       " ('TED', 4),\n",
       " ('Quizlet: Learn Languages & Vocab with Flashcards', 4),\n",
       " ('Learn languages, grammar & vocabulary with Memrise', 4),\n",
       " ('Babbel – Learn Languages', 4),\n",
       " ('Rosetta Stone: Learn to Speak & Read New Languages', 4),\n",
       " ('busuu: Learn Languages - Spanish, English & More', 4),\n",
       " ('Hulu: Stream TV, Movies & more', 4),\n",
       " ('The CW', 4),\n",
       " ('HBO NOW: Stream TV & Movies', 4),\n",
       " ('A&E - Watch Full Episodes of TV Shows', 4),\n",
       " ('Google Pay', 4),\n",
       " ('Nike+ Run Club', 4),\n",
       " ('Houzz Interior Design Ideas', 4),\n",
       " ('Pou', 4),\n",
       " ('Clash of Clans', 4),\n",
       " ('My Talking Angela', 4),\n",
       " ('Word Search', 4),\n",
       " ('Block Puzzle', 4),\n",
       " ('Clash Royale', 4),\n",
       " ('Angry Birds Rio', 4),\n",
       " ('Zombie Hunter King', 4),\n",
       " ('Kick the Buddy', 4),\n",
       " ('Magic Tiles 3', 4),\n",
       " ('Wordscapes', 4),\n",
       " ('PUBG MOBILE', 4),\n",
       " ('DRAGON BALL LEGENDS', 4),\n",
       " ('Talking Tom Gold Run', 4),\n",
       " ('Hill Climb Racing', 4),\n",
       " ('Garena Free Fire', 4),\n",
       " ('YouTube Kids', 4),\n",
       " ('Minion Rush: Despicable Me Official Game', 4),\n",
       " ('DC Super Hero Girls™', 4),\n",
       " ('Snapchat', 4),\n",
       " ('Instagram', 4),\n",
       " ('Badoo - Free Chat & Dating App', 4),\n",
       " ('Meetup', 4),\n",
       " ('The Coupons App', 4),\n",
       " ('Groupon - Shop Deals, Discounts & Coupons', 4),\n",
       " ('AliExpress - Smarter Shopping, Better Living', 4),\n",
       " ('Google Photos', 4),\n",
       " ('Shutterfly: Free Prints, Photo Books, Cards, Gifts', 4),\n",
       " ('Cymera Camera- Photo Editor, Filter,Collage,Layout', 4),\n",
       " ('ESPN Fantasy Sports', 4),\n",
       " ('WatchESPN', 4),\n",
       " ('Expedia Hotels, Flights & Car Rental Travel Deals', 4),\n",
       " ('ZEDGE™ Ringtones & Wallpapers', 4),\n",
       " ('Google Keep', 4),\n",
       " ('Evernote – Organizer, Planner for Notes & Memos', 4),\n",
       " ('Google Drive', 4),\n",
       " ('Google News', 4),\n",
       " ('Quick PDF Scanner + OCR FREE', 3),\n",
       " ('Box', 3),\n",
       " ('Google My Business', 3),\n",
       " ('join.me - Simple Meetings', 3),\n",
       " ('Google Ads', 3),\n",
       " ('Slack', 3),\n",
       " ('QuickBooks Accounting: Invoicing & Expenses', 3),\n",
       " ('WhatsApp Messenger', 3),\n",
       " ('Messenger – Text and Video Chat for Free', 3),\n",
       " ('Telegram', 3),\n",
       " ('Google Voice', 3),\n",
       " ('Firefox Focus: The privacy browser', 3),\n",
       " ('Google Allo', 3)]"
      ]
     },
     "execution_count": 10,
     "metadata": {},
     "output_type": "execute_result"
    }
   ],
   "source": [
    "occurences={}\n",
    "for name in duplicate_apps:\n",
    "    if name in occurences:\n",
    "        occurences[name]+=1\n",
    "    else:\n",
    "        #we define as 2 here because the first occurence of duplicate means there are 2 entries in dataset\n",
    "        occurences[name]=2\n",
    "\n",
    "sorted(occurences.items(), key=lambda x:x[1], reverse=True)[:100]\n",
    "#we can see that ROBLOX has 9 duplicates"
   ]
  },
  {
   "cell_type": "code",
   "execution_count": null,
   "metadata": {
    "scrolled": false
   },
   "outputs": [],
   "source": [
    "for app in googleplaystore:\n",
    "    if app[0]==\"ROBLOX\":\n",
    "        print(app)\n",
    "#Here, we can see that the only difference between the rows is the column 4 (number of reviews). It is reasonable to assume that\n",
    "#the number of reviews increased over time, so we should take the entry with the highest value:4450890. "
   ]
  },
  {
   "cell_type": "markdown",
   "metadata": {},
   "source": [
    "We will be filtering the data set by removing all duplicates that do not have the highest review count."
   ]
  },
  {
   "cell_type": "code",
   "execution_count": null,
   "metadata": {
    "scrolled": true
   },
   "outputs": [],
   "source": [
    "reviews_max={}\n",
    "for row in googleplaystore[1:]:\n",
    "    name=row[0]\n",
    "    reviews=float(row[3])\n",
    "    if name in reviews_max and reviews>reviews_max[name]:\n",
    "        reviews_max[name]=reviews\n",
    "    elif name not in reviews_max:\n",
    "        reviews_max[name]=reviews\n",
    "        \n",
    "print(len(reviews_max))"
   ]
  },
  {
   "cell_type": "markdown",
   "metadata": {},
   "source": [
    "Now we have a dictionary that contains the highest review count paired with the name of the app. All we need to do is identify the rows of these relevant data and assign it to a new list.\n",
    "\n",
    "In the below step, we are creating a new list to contain the clean data. We will check that only the row with the highest review count is appended to the new list(`android_clean`). Additionally, to prevent duplicate data that have the same number of review counts, we have another list(`already_added`) to keep track of the apps which we have already added."
   ]
  },
  {
   "cell_type": "code",
   "execution_count": null,
   "metadata": {},
   "outputs": [],
   "source": [
    "android_clean=[]\n",
    "already_added=[]\n",
    "for row in googleplaystore[1:]:\n",
    "    name = row[0]\n",
    "    n_reviews= float(row[3])\n",
    "    if reviews_max[name]== n_reviews and name not in already_added:\n",
    "        android_clean.append(row)\n",
    "        already_added.append(name)\n",
    "print(len(android_clean))\n",
    "\n",
    "#let us verify that the ROBLOX app has the correct review count of 4450890 in the new dataset\n",
    "for app in android_clean:\n",
    "    if app[0]==\"ROBLOX\":\n",
    "        print(app)"
   ]
  },
  {
   "cell_type": "markdown",
   "metadata": {},
   "source": [
    "## Removing non-english apps\n",
    "As the company is mainly involved with english apps, we need to do some data cleaning to remove non-english apps."
   ]
  },
  {
   "cell_type": "code",
   "execution_count": null,
   "metadata": {},
   "outputs": [],
   "source": [
    "#function that checks if name only consists of english characters\n",
    "def language_check(name):\n",
    "    for x in name:\n",
    "        if ord(x)>127:\n",
    "            return False\n",
    "    return True"
   ]
  },
  {
   "cell_type": "code",
   "execution_count": null,
   "metadata": {
    "scrolled": false
   },
   "outputs": [],
   "source": [
    "print(language_check('Instagram'))\n",
    "print(language_check('Docs To Go™ Free Office Suite'))\n",
    "print(language_check('爱奇艺PPS -《欢乐颂2》电视剧热播'))\n",
    "print(language_check('Instachat 😜'))"
   ]
  },
  {
   "cell_type": "raw",
   "metadata": {},
   "source": [
    "From the examples above, we realise that certain english apps that contain emojis/special characters fall outside of the ASCII range and have over 127. As such, to minimize the removal of these english apps, we will only remove rows that contains more than 3 characters that fall outside the ASCII range(0-127)."
   ]
  },
  {
   "cell_type": "code",
   "execution_count": null,
   "metadata": {},
   "outputs": [],
   "source": [
    "#function that checks if name consists of >3 non-english characters\n",
    "def language_checker(name):\n",
    "    count=0\n",
    "    for x in name:\n",
    "        if ord(x)>127:\n",
    "            count+=1\n",
    "    if count>3:\n",
    "        return False\n",
    "    return True"
   ]
  },
  {
   "cell_type": "code",
   "execution_count": null,
   "metadata": {
    "scrolled": false
   },
   "outputs": [],
   "source": [
    "print(language_checker('Instagram'))\n",
    "print(language_checker('Docs To Go™ Free Office Suite'))\n",
    "print(language_checker('爱奇艺PPS -《欢乐颂2》电视剧热播'))\n",
    "print(language_checker('Instachat 😜'))"
   ]
  },
  {
   "cell_type": "markdown",
   "metadata": {},
   "source": [
    "Now lets filter out non-English apps from the datasets!"
   ]
  },
  {
   "cell_type": "code",
   "execution_count": null,
   "metadata": {
    "scrolled": true
   },
   "outputs": [],
   "source": [
    "android_clean_english=[]\n",
    "applestore_english=[]\n",
    "for row in android_clean:\n",
    "    name=row[0]\n",
    "    if language_checker(name)==True:\n",
    "        android_clean_english.append(row)\n",
    "print(len(android_clean_english))\n",
    "\n",
    "for row in applestore[1:]:\n",
    "    name=row[1]\n",
    "    if language_checker(name)==True:\n",
    "        applestore_english.append(row)\n",
    "print(len(applestore_english))"
   ]
  },
  {
   "cell_type": "markdown",
   "metadata": {},
   "source": [
    "At this point, we have successfully removed inaccurate data, duplicate app entires and non-English apps for both datasets!\n",
    "The cleaned datasets are namely `android_clean_english` and `applestore_english`. \n",
    "## Isolating only free apps\n",
    "Since the company is interested in only free apps, now let us clean the data further and isolate the free apps in the datasets."
   ]
  },
  {
   "cell_type": "code",
   "execution_count": null,
   "metadata": {},
   "outputs": [],
   "source": [
    "free_android=[]\n",
    "free_apple=[]\n",
    "for row in android_clean_english:\n",
    "    price=row[7]\n",
    "    if price=='0':\n",
    "        free_android.append(row)\n",
    "    \n",
    "for row in applestore_english:\n",
    "    price=float(row[4])\n",
    "    if price==0.0:\n",
    "        free_apple.append(row)\n",
    "        \n",
    "print(len(free_android))\n",
    "print(len(free_apple))"
   ]
  },
  {
   "cell_type": "markdown",
   "metadata": {},
   "source": [
    "We are left with 8864 Android apps and 3222 iOS Apps.\n",
    "## Identifying free apps with a large user base\n",
    "Since the company's main focus is through the development of free apps, having a large user base is extremely important since it directly influences the revenue of the company. \n",
    "\n",
    "Now that we have isolated the free apps, we need to find a type of app that attracts large numbers of iOS and Android users. By doing so, the company is able to target both the iOS and Android market at the same time."
   ]
  },
  {
   "cell_type": "code",
   "execution_count": null,
   "metadata": {
    "scrolled": true
   },
   "outputs": [],
   "source": [
    "#let us first generate a frequency table to find out the most common genres in each market\n",
    "#define a function that creates a frequency table based on a dataset and index\n",
    "def freq_table(dataset,index):\n",
    "    freq_tbl={}\n",
    "    total=0\n",
    "    for row in dataset:\n",
    "        total+=1\n",
    "        column=row[index]\n",
    "        if column in freq_tbl:\n",
    "            freq_tbl[column]+=1\n",
    "        else:\n",
    "            freq_tbl[column]=1\n",
    "    table_percentages={}\n",
    "    for key in freq_tbl:\n",
    "        percentage=(freq_tbl[key]/total)*100\n",
    "        table_percentages[key]=percentage\n",
    "    return table_percentages"
   ]
  },
  {
   "cell_type": "markdown",
   "metadata": {},
   "source": [
    "Now we have 2 frequency tables based on genres for the iOS and Android market. To obtain the genre with the highest frequency, we will need to sort our frequency tables."
   ]
  },
  {
   "cell_type": "code",
   "execution_count": null,
   "metadata": {},
   "outputs": [],
   "source": [
    "def display_table(dataset,index):\n",
    "    table = freq_table(dataset,index)\n",
    "    #list of tuples\n",
    "    table_display=[]\n",
    "    for key in table:\n",
    "        key_val_as_tuple= (table[key],key)\n",
    "        table_display.append(key_val_as_tuple)\n",
    "    #sort the table in descending order\n",
    "    table_sorted= sorted(table_display,reverse=True)\n",
    "    for entry in table_sorted:\n",
    "        print(entry[1],':',entry[0])"
   ]
  },
  {
   "cell_type": "markdown",
   "metadata": {},
   "source": [
    "## Most Popular Apps by Genre & Category in PlayStore"
   ]
  },
  {
   "cell_type": "code",
   "execution_count": null,
   "metadata": {
    "scrolled": true
   },
   "outputs": [],
   "source": [
    "#sorted freq_table for android genres\n",
    "display_table(free_android,9)"
   ]
  },
  {
   "cell_type": "code",
   "execution_count": null,
   "metadata": {
    "scrolled": true
   },
   "outputs": [],
   "source": [
    "#sorted freq_table for android categories\n",
    "display_table(free_android,1)"
   ]
  },
  {
   "cell_type": "markdown",
   "metadata": {},
   "source": [
    "In the android genres table, we observe that the most common genre is `Tools` followed by `Entertainment`. While if we look at the android categories table, `Family` and `Game` rank top 2 followed by `Tools`. This is likely due to a more generic classification of the apps which grouped into the `Game` and `Family` categories respectively.\n",
    "\n",
    "## Most Popular Apps by Genre on AppStore\n",
    "\n",
    "Let us now take a look at the the AppleStore dataset.\n",
    "Since there is no data on the number of installations for apps in AppleStore, we will use rating_count_column to extract the total number of user ratings as a proxy instead."
   ]
  },
  {
   "cell_type": "code",
   "execution_count": null,
   "metadata": {
    "scrolled": true
   },
   "outputs": [],
   "source": [
    "#sorted freq_table for iOS\n",
    "display_table(free_apple,11)"
   ]
  },
  {
   "cell_type": "markdown",
   "metadata": {},
   "source": [
    "In the apple prime_genre table, we see that `Games` rank first followed by `Entertainment`. This is generally in line with the Android market as Games are ranked in top 2 for both markets. However, just this information is not enough to provide a conclusive insight. \n",
    "\n",
    "Let us look further with the average number of user ratings for each genre of apps."
   ]
  },
  {
   "cell_type": "code",
   "execution_count": null,
   "metadata": {
    "scrolled": true
   },
   "outputs": [],
   "source": [
    "for genre in freq_table(free_apple,11):\n",
    "    total=0\n",
    "    len_genre=0\n",
    "    for row in free_apple:\n",
    "        genre_app=row[11]\n",
    "        if genre_app== genre:\n",
    "            total+=float(row[5])\n",
    "            len_genre+=1\n",
    "    avg = total/len_genre\n",
    "    print(genre,':',avg)"
   ]
  },
  {
   "cell_type": "markdown",
   "metadata": {},
   "source": [
    "From above, we can see that `Social Networking` is approximated to be the genre that has the most user ratings per app in iOS.\n",
    "\n",
    "## Category with most number of installations in PlayStore\n",
    "After inspection of our android data set, we realise that the number of installations are non-precise(shown below). However, we will still use it to approximate the category of app that has the most users."
   ]
  },
  {
   "cell_type": "code",
   "execution_count": null,
   "metadata": {
    "scrolled": false
   },
   "outputs": [],
   "source": [
    "display_table(free_android,5)"
   ]
  },
  {
   "cell_type": "code",
   "execution_count": null,
   "metadata": {
    "scrolled": false
   },
   "outputs": [],
   "source": [
    "total=0\n",
    "len_category=0\n",
    "install_tbl={}\n",
    "for category in freq_table(free_android,1):\n",
    "    for row in free_android:\n",
    "        category_app=row[1]\n",
    "        if category_app==category:\n",
    "            total+=float(row[5].replace('+','').replace(',',''))\n",
    "            len_category+=1\n",
    "    avg_installs=total/len_category\n",
    "    print(category,':',avg_installs)\n",
    "    install_tbl[category]=avg_installs"
   ]
  },
  {
   "cell_type": "code",
   "execution_count": null,
   "metadata": {},
   "outputs": [],
   "source": [
    "#lets sort the results for easier reading\n",
    "table_display=[]\n",
    "for key in install_tbl:\n",
    "    key_val_as_tuple= (install_tbl[key],key)\n",
    "    table_display.append(key_val_as_tuple)\n",
    "#sort the table in descending order\n",
    "table_sorted= sorted(table_display,reverse=True)\n",
    "for entry in table_sorted:\n",
    "    print(entry[1],':',entry[0])"
   ]
  },
  {
   "cell_type": "markdown",
   "metadata": {},
   "source": [
    "From the results shown, we see that `communication` genre has the highest avg installations per app. It is important to remember that the number of installations is not accurate and only serves as an estimation. This result is likely to be skewed by a few apps that have a huge amount of installations (like Whatsapp, LINE, Facebook Messenger, Gmail, Telegram etc..)"
   ]
  },
  {
   "cell_type": "code",
   "execution_count": null,
   "metadata": {
    "scrolled": true
   },
   "outputs": [],
   "source": [
    "for app in free_android:\n",
    "    if app[1] =='COMMUNICATION' and ( app[5] == '1,000,000,000+' or app[5] =='500,000,000+' or app[5] == '100,000,000+'):\n",
    "        print(app[0],':',app[5])"
   ]
  },
  {
   "cell_type": "markdown",
   "metadata": {},
   "source": [
    "This trend where the top few apps takes up majority of the installs seems to common amongst categories that people require or use on a daily basis. Rather than look at categories that have a large number of dominant apps already, perhaps the company should look at other categories that have less of such dominant apps. In such categories, there will be less resistance for users to move from pre-existing apps to new apps and provide a better chance of gaining more users.\n",
    "\n",
    "Let us take a look at several other categories before deciding."
   ]
  },
  {
   "cell_type": "code",
   "execution_count": null,
   "metadata": {},
   "outputs": [],
   "source": [
    "for app in free_android:\n",
    "    if app[1] =='DATING' and ( app[5] == '1,000,000,000+' or app[5] =='500,000,000+' or app[5] == '100,000,000+'\n",
    "                             or app[5]=='10,000,000+' or app[5] =='5,000,000+'):\n",
    "        print(app[0],':',app[5])"
   ]
  },
  {
   "cell_type": "markdown",
   "metadata": {},
   "source": [
    "In the `Dating` category, we can clearly see that the dominant apps have less installs as compared to `Communication` category. This could be a potential category that the company wants to target. But let us look further into other categories."
   ]
  },
  {
   "cell_type": "code",
   "execution_count": null,
   "metadata": {
    "scrolled": true
   },
   "outputs": [],
   "source": [
    "for app in free_android:\n",
    "    if app[1] =='BEAUTY' and ( app[5] == '1,000,000,000+' or app[5] =='500,000,000+' or app[5] == '100,000,000+'\n",
    "                             or app[5]=='10,000,000+' or app[5] =='5,000,000+' or app[5] == '1,000,000+'):\n",
    "        print(app[0],':',app[5])"
   ]
  },
  {
   "cell_type": "markdown",
   "metadata": {},
   "source": [
    "In the `Beauty` category, we can clearly see that the dominant apps have even less installs as compared to `Dating` category. \n",
    "However, it is worth noting that the avg number of installs per app is 10 times less than `Dating` category. This is likely due to how niche this category is in comparison to `Dating` category."
   ]
  },
  {
   "cell_type": "code",
   "execution_count": null,
   "metadata": {
    "scrolled": true
   },
   "outputs": [],
   "source": [
    "count=0\n",
    "for row in free_android:\n",
    "    if row[1]=='BEAUTY':\n",
    "        count+=1\n",
    "print(count)"
   ]
  },
  {
   "cell_type": "code",
   "execution_count": null,
   "metadata": {
    "scrolled": true
   },
   "outputs": [],
   "source": [
    "count=0\n",
    "for row in free_android:\n",
    "    if row[1]=='DATING':\n",
    "        count+=1\n",
    "print(count)"
   ]
  },
  {
   "cell_type": "markdown",
   "metadata": {},
   "source": [
    "The total count of apps in each category also tells us the number of apps in the market that will be a competitor. \n",
    "\n",
    "I would recommend a category that is not too niche nor is it too popular. Being ranked 2 for the average number of installs, `dating` category has quite a large number of user base compared to `Beauty`. While it also does not have too many dominant apps in the market as compared to `Communications` category. This would give an app in the `Dating` category a fair chance to succeed in the Android market.\n",
    "\n",
    "Let us take a look at the iOS market too."
   ]
  },
  {
   "cell_type": "code",
   "execution_count": null,
   "metadata": {
    "scrolled": true
   },
   "outputs": [],
   "source": [
    "dating_dictionary={}\n",
    "\n",
    "#as there is no genre for 'dating', we need to list keywords and sieve out the relevant data\n",
    "for row in free_apple:\n",
    "    if ('date' in row[1] or 'Date' in row[1] or 'dating' in row[1] or 'Dating' in row[1] or 'meet' in row[1] or 'Meet' in row[1]):\n",
    "        dating_dictionary[row[1]]=float(row[5])\n",
    "\n",
    "temp_list=[]\n",
    "for key in dating_dictionary:\n",
    "    key_as_val=(dating_dictionary[key],key)\n",
    "    temp_list.append(key_as_val)\n",
    "sorted_list=sorted(temp_list,reverse=True)\n",
    "\n",
    "for entry in sorted_list:\n",
    "    print(entry[1],':',entry[0])\n"
   ]
  },
  {
   "cell_type": "markdown",
   "metadata": {},
   "source": [
    "From this, we are able to ascertain that the number of dating apps in the iOS market is quite low and it could mean a higher possibility of success in the market.\n",
    "\n",
    "# Conclusion\n",
    "In this project, we analyzed data from both the AppStore and PlayStore with the goal of recommending an app profile that will likely be profitable in both markets.\n",
    "We concluded that the dating apps in both markets are still not saturated and there is still opportunity for growth and high user adoption rate. With the help of some outstanding features like group dates, planned activity dates ,restaurant collaboration and other special features, there is a high likelihood of success for the company."
   ]
  }
 ],
 "metadata": {
  "kernelspec": {
   "display_name": "Python 3",
   "language": "python",
   "name": "python3"
  },
  "language_info": {
   "codemirror_mode": {
    "name": "ipython",
    "version": 3
   },
   "file_extension": ".py",
   "mimetype": "text/x-python",
   "name": "python",
   "nbconvert_exporter": "python",
   "pygments_lexer": "ipython3",
   "version": "3.8.5"
  }
 },
 "nbformat": 4,
 "nbformat_minor": 4
}
